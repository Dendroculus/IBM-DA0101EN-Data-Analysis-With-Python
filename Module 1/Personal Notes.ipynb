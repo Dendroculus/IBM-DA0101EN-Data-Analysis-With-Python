{
 "cells": [
  {
   "cell_type": "markdown",
   "id": "module-1-title",
   "metadata": {},
   "source": [
    "# Module 1: Importing and Inspecting Data with Pandas\n",
    "\n",
    "This notebook covers the basic steps for loading a dataset into a pandas DataFrame, assigning headers, and performing initial data inspection. This is based on the IBM Data Analysis (DA0101EN) course, Module 1.\n",
    "\n",
    "---"
   ]
  },
  {
   "cell_type": "markdown",
   "id": "setup-markdown",
   "metadata": {},
   "source": [
    "## 1. Setup\n",
    "\n",
    "First, we import the **pandas** library, which is the standard tool for data manipulation and analysis in Python."
   ]
  },
  {
   "cell_type": "code",
   "execution_count": null,
   "id": "import-pandas",
   "metadata": {},
   "outputs": [],
   "source": [
    "import pandas as pd"
   ]
  },
  {
   "cell_type": "markdown",
   "id": "import-dataset-md",
   "metadata": {},
   "source": [
    "## 2. Importing the Dataset\n",
    "\n",
    "We will load the \"Automobile\" dataset from the UCI Machine Learning Repository.\n",
    "\n",
    "* We define the `url` where the data is located.\n",
    "* We use `pd.read_csv()` to load the data.\n",
    "* We specify `header=None` because the original file does not contain a header row. If we omit this, pandas will incorrectly use the first row of data as the headers.\n",
    "\n",
    "---"
   ]
  },
  {
   "cell_type": "code",
   "execution_count": null,
   "id": "import-dataset-code",
   "metadata": {},
   "outputs": [],
   "source": [
    "# Define the URL for the dataset\n",
    "url = \"https://archive.ics.uci.edu/ml/machine-learning-databases/autos/imports-85.data\"\n",
    "\n",
    "# Read the CSV data into a DataFrame, specifying no header\n",
    "df = pd.read_csv(url, header=None)"
   ]
  },
  {
   "cell_type": "markdown",
   "id": "assign-headers-md",
   "metadata": {},
   "source": [
    "## 3. Assigning Column Headers\n",
    "\n",
    "Our DataFrame currently has default integer headers (0, 1, 2...). To make the data understandable, we need to assign meaningful column names.\n",
    "\n",
    "* We create a list called `headers` containing the correct name for each column in order.\n",
    "* We assign this list to the `df.columns` attribute.\n",
    "\n",
    "---"
   ]
  },
  {
   "cell_type": "code",
   "execution_count": null,
   "id": "assign-headers-code",
   "metadata": {},
   "outputs": [],
   "source": [
    "# Create a list of headers\n",
    "headers = [\"symboling\", \"normalized-losses\", \"make\", \"fuel-type\", \"aspiration\", \"num-of-doors\",\n",
    "           \"body-style\", \"drive-wheels\", \"engine-location\", \"wheel-base\", \"length\", \"width\",\n",
    "           \"height\", \"curb-weight\", \"engine-type\", \"num-of-cylinders\", \"engine-size\", \"fuel-system\",\n",
    "           \"bore\", \"stroke\", \"compression-ratio\", \"horsepower\", \"peak-rpm\", \"city-mpg\", \"highway-mpg\", \"price\"]\n",
    "\n",
    "# Assign the headers to the DataFrame\n",
    "df.columns = headers"
   ]
  },
  {
   "cell_type": "markdown",
   "id": "inspection-intro-md",
   "metadata": {},
   "source": [
    "## 4. Initial Data Inspection\n",
    "\n",
    "After loading and cleaning the headers, the next step is to inspect the data to understand its structure, identify potential issues (like missing values or incorrect data types), and get a statistical overview."
   ]
  },
  {
   "cell_type": "markdown",
   "id": "head-md",
   "metadata": {},
   "source": [
    "### View First 5 Rows with `.head()`\n",
    "\n",
    "The `.head()` method is the best way to get a quick visual confirmation that your data is loaded correctly and the headers are assigned properly."
   ]
  },
  {
   "cell_type": "code",
   "execution_count": null,
   "id": "head-code",
   "metadata": {},
   "outputs": [],
   "source": [
    "# Display the first 5 rows\n",
    "df.head()"
   ]
  },
  {
   "cell_type": "markdown",
   "id": "info-md",
   "metadata": {},
   "source": [
    "### Get a Concise Summary with `.info()`\n",
    "\n",
    "The `.info()` method provides a high-level summary of the DataFrame. It's excellent for quickly checking:\n",
    "* The total number of entries (rows).\n",
    "* The number of columns.\n",
    "* The data type (`Dtype`) of each column.\n",
    "* The number of non-null (i.e., not missing) values for each column.\n",
    "* Memory usage.\n",
    "\n",
    "**Key Observation:** Notice below that columns like `normalized-losses`, `horsepower`, and `price` are an `object` (string) type. This indicates they contain non-numeric characters (like '?' for missing values) and will need to be cleaned before we can perform calculations on them."
   ]
  },
  {
   "cell_type": "code",
   "execution_count": null,
   "id": "info-code",
   "metadata": {},
   "outputs": [
    {
     "name": "stdout",
     "output_type": "stream",
     "text": [
      "<class 'pandas.core.frame.DataFrame'>\n",
      "RangeIndex: 205 entries, 0 to 204\n",
      "Data columns (total 26 columns):\n",
      " #   Column             Non-Null Count  Dtype  \n",
      "---  ------             --------------  -----  \n",
      " 0   symboling          205 non-null    int64  \n",
      " 1   normalized-losses  205 non-null    object \n",
      " 2   make               205 non-null    object \n",
      " 3   fuel-type          205 non-null    object \n",
      " 4   aspiration         205 non-null    object \n",
      " 5   num-of-doors       205 non-null    object \n",
      " 6   body-style         205 non-null    object \n",
      " 7   drive-wheels       205 non-null    object \n",
      " 8   engine-location    205 non-null    object \n",
      " 9   wheel-base         205 non-null    float64\n",
      " 10  length             205 non-null    float64\n",
      " 11  width              205 non-null    float64\n",
      " 12  height             205 non-null    float64\n",
      " 13  curb-weight        205 non-null    int64  \n",
      " 14  engine-type        205 non-null    object \n",
      " 15  num-of-cylinders   205 non-null    object \n",
      " 16  engine-size        205 non-null    int64  \n",
      " 17  fuel-system        205 non-null    object \n",
      " 18  bore               205 non-null    object \n",
      " 19  stroke             205 non-null    object \n",
      " 20  compression-ratio  205 non-null    float64\n",
      " 21  horsepower         205 non-null    object \n",
      " 22  peak-rpm           205 non-null    object \n",
      " 23  city-mpg           205 non-null    int64  \n",
      " 24  highway-mpg        205 non-null    int64  \n",
      " 25  price              205 non-null    object \n",
      "dtypes: float64(5), int64(5), object(16)\n",
      "memory usage: 41.8+ KB\n"
     ]
    }
   ],
   "source": [
    "# Get a concise summary of the DataFrame\n",
    "df.info()"
   ]
  },
  {
   "cell_type": "markdown",
   "id": "dtypes-md",
   "metadata": {},
   "source": [
    "### Check Data Types with `.dtypes`\n",
    "\n",
    "If you only want to see the data types for each column, `.dtypes` is a more direct command."
   ]
  },
  {
   "cell_type": "code",
   "execution_count": null,
   "id": "dtypes-code",
   "metadata": {},
   "outputs": [],
   "source": [
    "# Check the data types of each column\n",
    "df.dtypes"
   ]
  },
  {
   "cell_type": "markdown",
   "id": "describe-md",
   "metadata": {},
   "source": [
    "### Statistical Summary with `.describe()`\n",
    "\n",
    "The `.describe()` method provides a statistical summary for all **numerical** columns ( `int64` and `float64`). It automatically calculates:\n",
    "* **count:** The number of non-missing values.\n",
    "* **mean:** The average value.\n",
    "* **std:** The standard deviation.\n",
    "* **min:** The minimum value.\n",
    "* **25%:** The 25th percentile (1st quartile).\n",
    "* **50%:** The 50th percentile (median).\n",
    "* **75%:** The 75th percentile (3rd quartile).\n",
    "* **max:** The maximum value."
   ]
  },
  {
   "cell_type": "code",
   "execution_count": null,
   "id": "describe-code",
   "metadata": {},
   "outputs": [],
   "source": [
    "# Get a statistical summary of the numerical columns\n",
    "df.describe()"
   ]
  },
  {
   "cell_type": "markdown",
   "id": "describe-all-md",
   "metadata": {},
   "source": [
    "### Full Summary with `.describe(include=\"all\")`\n",
    "\n",
    "By default, `.describe()` ignores object/categorical columns. To get a summary of **all** columns, use `include=\"all\"`.\n",
    "\n",
    "For **categorical** columns (type `object`), it provides:\n",
    "* **unique:** The number of distinct (unique) values.\n",
    "* **top:** The most frequently occurring value.\n",
    "* **freq:** The frequency (count) of the `top` value.\n",
    "\n",
    "For **numerical** columns, it provides the same statistics as the default `.describe()`.\n",
    "\n",
    "---"
   ]
  },
  {
   "cell_type": "code",
   "execution_count": null,
   "id": "describe-all-code",
   "metadata": {},
   "outputs": [],
   "source": [
    "# Get a statistical summary of all columns (numerical and categorical)\n",
    "df.describe(include=\"all\")"
   ]
  },
  {
   "cell_type": "markdown",
   "id": "export-md",
   "metadata": {},
   "source": [
    "## 5. Exporting the Data (Optional)\n",
    "\n",
    "After adding headers, you might want to save your progress to a new CSV file.\n",
    "\n",
    "* We use `df.to_csv()` to save the DataFrame.\n",
    "* We specify `index=False` to prevent pandas from writing the DataFrame's index (0, 1, 2...) as an extra column in the new file."
   ]
  },
  {
   "cell_type": "code",
   "execution_count": null,
   "id": "export-code",
   "metadata": {},
   "outputs": [],
   "source": [
    "# Export the DataFrame with headers to a new CSV file\n",
    "# index=False prevents writing the row indices as a new column\n",
    "df.to_csv(\"automobile_data_with_headers.csv\", index=False)"
   ]
  }
 ],
 "metadata": {
  "kernelspec": {
   "display_name": "Python 3",
   "language": "python",
   "name": "python3"
  },
  "language_info": {
   "codemirror_mode": {
    "name": "ipython",
    "version": 3
   },
   "file_extension": ".py",
   "mimetype": "text/x-python",
   "name": "python",
   "nbconvert_exporter": "python",
   "pygments_lexer": "ipython3",
   "version": "3.10.0"
  }
 },
 "nbformat": 4,
 "nbformat_minor": 5
}